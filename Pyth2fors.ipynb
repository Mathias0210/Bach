{
  "nbformat": 4,
  "nbformat_minor": 0,
  "metadata": {
    "colab": {
      "name": "Pyth2fors.ipynb",
      "provenance": [],
      "collapsed_sections": [],
      "authorship_tag": "ABX9TyMXvA5A1f8A7pj0ITfll5oT",
      "include_colab_link": true
    },
    "kernelspec": {
      "name": "python3",
      "display_name": "Python 3"
    },
    "language_info": {
      "name": "python"
    }
  },
  "cells": [
    {
      "cell_type": "markdown",
      "metadata": {
        "id": "view-in-github",
        "colab_type": "text"
      },
      "source": [
        "<a href=\"https://colab.research.google.com/github/Mathias0210/Bach/blob/main/Pyth2fors.ipynb\" target=\"_parent\"><img src=\"https://colab.research.google.com/assets/colab-badge.svg\" alt=\"Open In Colab\"/></a>"
      ]
    },
    {
      "cell_type": "code",
      "execution_count": null,
      "metadata": {
        "id": "eV7hxZURxh3f"
      },
      "outputs": [],
      "source": [
        "import pandas as pd\n",
        "!pip install mlxtend"
      ]
    },
    {
      "cell_type": "code",
      "source": [
        "from google.colab import files\n",
        "uploaded = files.upload()\n",
        "df = pd.read_excel('SalesData.xlsx')\n",
        "# show the first few rows\n",
        "df.head()"
      ],
      "metadata": {
        "id": "t-IwfAXk3FH6"
      },
      "execution_count": null,
      "outputs": []
    },
    {
      "cell_type": "code",
      "source": [
        "# Prepend '_' to ProduktID\n",
        "df['ProduktID'] = df['ProduktID'].apply(lambda x: '_'+str(x))\n",
        "\n",
        "#Sætter alle produktnavne til stort\n",
        "df['ProductName']=df['ProductName'].str.upper()"
      ],
      "metadata": {
        "id": "IRZYC-U76buZ"
      },
      "execution_count": 6,
      "outputs": []
    },
    {
      "cell_type": "code",
      "source": [
        "# DataFrame for building the recommendation system\n",
        "orders = df[['TransaktionsID', 'ProduktID']]\n",
        "print(orders.shape)\n",
        "print(orders.head(10))\n",
        "# DataFrame for retrieving product descriptions\n",
        "products = df[['ProduktID', 'ProductName']].copy()\n",
        "\n",
        "print(products.shape)\n",
        "print(products.head(10))"
      ],
      "metadata": {
        "id": "uaI5Iqal6hAE"
      },
      "execution_count": null,
      "outputs": []
    },
    {
      "cell_type": "code",
      "source": [
        "# Drop duplicated products\n",
        "products = products[~products.duplicated()]\n",
        "\n",
        "\n",
        "print(products.shape)\n",
        "print(products.head(10))"
      ],
      "metadata": {
        "id": "HNzmpuHg758T"
      },
      "execution_count": null,
      "outputs": []
    },
    {
      "cell_type": "code",
      "source": [
        "# Fra tidligere trin er der nu kun ca. 6500 linjer i produkt men det bemærkes \n",
        "\n",
        "products.to_excel('Products.xlsx')\n",
        "files.download('Products.xlsx')\n",
        "\n",
        "#Det bemærkes at forekllige productnavne har samme produktID, ved nærmere inspektion er det dog de samme produkter bare med forskellige navne."
      ],
      "metadata": {
        "colab": {
          "base_uri": "https://localhost:8080/",
          "height": 17
        },
        "id": "TQWeo_RJ8QHt",
        "outputId": "0654d2a9-8c49-49c4-de4e-1a776cf2939d"
      },
      "execution_count": 48,
      "outputs": [
        {
          "output_type": "display_data",
          "data": {
            "text/plain": [
              "<IPython.core.display.Javascript object>"
            ],
            "application/javascript": [
              "\n",
              "    async function download(id, filename, size) {\n",
              "      if (!google.colab.kernel.accessAllowed) {\n",
              "        return;\n",
              "      }\n",
              "      const div = document.createElement('div');\n",
              "      const label = document.createElement('label');\n",
              "      label.textContent = `Downloading \"${filename}\": `;\n",
              "      div.appendChild(label);\n",
              "      const progress = document.createElement('progress');\n",
              "      progress.max = size;\n",
              "      div.appendChild(progress);\n",
              "      document.body.appendChild(div);\n",
              "\n",
              "      const buffers = [];\n",
              "      let downloaded = 0;\n",
              "\n",
              "      const channel = await google.colab.kernel.comms.open(id);\n",
              "      // Send a message to notify the kernel that we're ready.\n",
              "      channel.send({})\n",
              "\n",
              "      for await (const message of channel.messages) {\n",
              "        // Send a message to notify the kernel that we're ready.\n",
              "        channel.send({})\n",
              "        if (message.buffers) {\n",
              "          for (const buffer of message.buffers) {\n",
              "            buffers.push(buffer);\n",
              "            downloaded += buffer.byteLength;\n",
              "            progress.value = downloaded;\n",
              "          }\n",
              "        }\n",
              "      }\n",
              "      const blob = new Blob(buffers, {type: 'application/binary'});\n",
              "      const a = document.createElement('a');\n",
              "      a.href = window.URL.createObjectURL(blob);\n",
              "      a.download = filename;\n",
              "      div.appendChild(a);\n",
              "      a.click();\n",
              "      div.remove();\n",
              "    }\n",
              "  "
            ]
          },
          "metadata": {}
        },
        {
          "output_type": "display_data",
          "data": {
            "text/plain": [
              "<IPython.core.display.Javascript object>"
            ],
            "application/javascript": [
              "download(\"download_028c37b6-02a2-46da-a3dd-2e40c7f6923e\", \"Products.xlsx\", 284643)"
            ]
          },
          "metadata": {}
        }
      ]
    },
    {
      "cell_type": "code",
      "source": [
        "#Fjerner duplikerede linjer med productID og beholder\n",
        "\n",
        "\n",
        "products = (products\n",
        ".sort_values(by=['ProduktID'],ascending=False))\n",
        "\n",
        "products.head(160)"
      ],
      "metadata": {
        "id": "ca0ZpiN7DSPS"
      },
      "execution_count": null,
      "outputs": []
    },
    {
      "cell_type": "code",
      "source": [
        "#Fjerner fejlene fra ProdutData ved at overskrive dubletterne\n",
        "\n",
        "products = products.drop_duplicates(subset='ProduktID', keep=\"last\")\n",
        "print(products.shape)\n",
        "products.head(160)"
      ],
      "metadata": {
        "id": "CB1IgwJCAkQ3"
      },
      "execution_count": null,
      "outputs": []
    },
    {
      "cell_type": "code",
      "source": [
        "#Der blevv fjernet lidt over 100 fejl med denne metode og jeg må antage at produkterne er de samme og tabellen nu er klar til brug\n",
        "\n",
        "\n",
        "#Jeg går nu videre til min liste af transaktioner\n",
        "#Et loop der laver en liste med alle produktid'er for hver transaktion\n",
        "\n",
        "def string_list(x):\n",
        "    return [str(i) for i in x]\n",
        "\n",
        "orders = orders.groupby('TransaktionsID')['ProduktID'].apply(list).reset_index()\n",
        "\n",
        "#Der var sneget sig et par ekstra [] ind i produktname som jeg her fjerner\n",
        "\n",
        "df['ProduktID'] = df['ProduktID'].str.strip('[]')\n",
        "orders.head(100)\n"
      ],
      "metadata": {
        "id": "v2AzIeFKDqB6"
      },
      "execution_count": null,
      "outputs": []
    },
    {
      "cell_type": "code",
      "source": [
        "#orders.to_excel('orders.xlsx')\n",
        "#files.download('orders.xlsx')"
      ],
      "metadata": {
        "colab": {
          "base_uri": "https://localhost:8080/",
          "height": 17
        },
        "id": "nsY09jHyfC60",
        "outputId": "f724f43f-e4a3-42b0-ab46-3e136c0656d2"
      },
      "execution_count": 113,
      "outputs": [
        {
          "output_type": "display_data",
          "data": {
            "text/plain": [
              "<IPython.core.display.Javascript object>"
            ],
            "application/javascript": [
              "\n",
              "    async function download(id, filename, size) {\n",
              "      if (!google.colab.kernel.accessAllowed) {\n",
              "        return;\n",
              "      }\n",
              "      const div = document.createElement('div');\n",
              "      const label = document.createElement('label');\n",
              "      label.textContent = `Downloading \"${filename}\": `;\n",
              "      div.appendChild(label);\n",
              "      const progress = document.createElement('progress');\n",
              "      progress.max = size;\n",
              "      div.appendChild(progress);\n",
              "      document.body.appendChild(div);\n",
              "\n",
              "      const buffers = [];\n",
              "      let downloaded = 0;\n",
              "\n",
              "      const channel = await google.colab.kernel.comms.open(id);\n",
              "      // Send a message to notify the kernel that we're ready.\n",
              "      channel.send({})\n",
              "\n",
              "      for await (const message of channel.messages) {\n",
              "        // Send a message to notify the kernel that we're ready.\n",
              "        channel.send({})\n",
              "        if (message.buffers) {\n",
              "          for (const buffer of message.buffers) {\n",
              "            buffers.push(buffer);\n",
              "            downloaded += buffer.byteLength;\n",
              "            progress.value = downloaded;\n",
              "          }\n",
              "        }\n",
              "      }\n",
              "      const blob = new Blob(buffers, {type: 'application/binary'});\n",
              "      const a = document.createElement('a');\n",
              "      a.href = window.URL.createObjectURL(blob);\n",
              "      a.download = filename;\n",
              "      div.appendChild(a);\n",
              "      a.click();\n",
              "      div.remove();\n",
              "    }\n",
              "  "
            ]
          },
          "metadata": {}
        },
        {
          "output_type": "display_data",
          "data": {
            "text/plain": [
              "<IPython.core.display.Javascript object>"
            ],
            "application/javascript": [
              "download(\"download_19805662-178f-435b-9b56-802a8078bc81\", \"orders.xlsx\", 115964)"
            ]
          },
          "metadata": {}
        }
      ]
    },
    {
      "cell_type": "code",
      "source": [
        "#Importerer mlxtend https://towardsdatascience.com/mlxtend-a-python-library-with-interesting-tools-for-data-science-tasks-d54c723f89cd\n",
        "\n",
        "from mlxtend.preprocessing import TransactionEncoder"
      ],
      "metadata": {
        "id": "4YDBqVG-JoyL"
      },
      "execution_count": 15,
      "outputs": []
    },
    {
      "cell_type": "code",
      "source": [
        "# fit the TransactionEncoder\n",
        "te = TransactionEncoder()\n",
        "\n",
        "te.fit(orders['ProduktID'])\n",
        "\n",
        "# do the transformation\n",
        "orders_1hot = te.transform(orders['ProduktID'])\n",
        "\n",
        "#Omdanner til en matrix med produktID som kolonner og transaktioner som rækker.\n",
        "orders_1hot = pd.DataFrame(orders_1hot, columns =te.columns_)\n",
        "orders_1hot.head()"
      ],
      "metadata": {
        "id": "2-f2V4OvKDF0"
      },
      "execution_count": null,
      "outputs": []
    },
    {
      "cell_type": "code",
      "source": [
        "#Importerer apriori som er vorres unsupervised metode\n",
        "from mlxtend.frequent_patterns import apriori\n",
        "\n",
        "#Instantierer apriori med datasettet der er klargjort og viser første associationer\n",
        "\n",
        "ap = apriori(orders_1hot, min_support=0.01, max_len=5, use_colnames=True)\n",
        "ap.head(6)"
      ],
      "metadata": {
        "id": "FO2XhBu2P5Jv"
      },
      "execution_count": null,
      "outputs": []
    },
    {
      "cell_type": "code",
      "source": [
        "from mlxtend.frequent_patterns import association_rules\n",
        "\n",
        "#Viser her de stærkeste associationer\n",
        "rules = association_rules(ap,metric=\"lift\", min_threshold = 0.0001)\n",
        "print(rules)"
      ],
      "metadata": {
        "id": "tpCtj4PXQ5mj"
      },
      "execution_count": null,
      "outputs": []
    },
    {
      "cell_type": "code",
      "source": [
        "#Funktion der laver foreslag baseret på produktID\n",
        "\n",
        "def predict(antecedent, rules, max_results= 6):\n",
        "    \n",
        "    # get the rules for this antecedent\n",
        "    preds = rules[rules['antecedents'] == antecedent]\n",
        "    \n",
        "    # a way to convert a frozen set with one element to string\n",
        "    preds = preds['consequents'].apply(iter).apply(next)\n",
        "    \n",
        "    return preds[:max_results]\n",
        "  \n",
        "\n",
        "    preds = predict({'_1017036338'}, rules)\n",
        "    preds\n",
        "\n",
        "    # Display the descriptions of the predictions\n",
        "    for produktID in preds:  \n",
        "      print(products[produktID])  \n",
        "\n",
        "\n",
        "      #Konklusion, der er for mange produkter, for få transaktioner og ikke stærke nok associationer til at Apriori kan give anbefalinger..."
      ],
      "metadata": {
        "id": "uOt3t289TvQa"
      },
      "execution_count": 102,
      "outputs": []
    }
  ]
}